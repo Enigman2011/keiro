{
 "metadata": {
  "name": ""
 },
 "nbformat": 3,
 "nbformat_minor": 0,
 "worksheets": [
  {
   "cells": [
    {
     "cell_type": "code",
     "collapsed": false,
     "input": [
      "import os\n",
      "os.environ[\"DJANGO_SETTINGS_MODULE\"] = \"settings\"\n",
      "from statsapp.models import Record\n",
      "from numpy import *\n",
      "import pandas as pd"
     ],
     "language": "python",
     "metadata": {},
     "outputs": [],
     "prompt_number": 3
    },
    {
     "cell_type": "code",
     "collapsed": false,
     "input": [
      "qs = Record.objects.filter(\n",
      "    agent=\"Arty\",\n",
      "    scenario=\"MarketSquare\",\n",
      "    scenario_parameter=None\n",
      ")\n",
      "df = pd.DataFrame(list(qs.values()))\n",
      "df.head()"
     ],
     "language": "python",
     "metadata": {},
     "outputs": [
      {
       "html": [
        "<div style=\"max-height:1000px;max-width:1500px;overflow:auto;\">\n",
        "<table border=\"1\" class=\"dataframe\">\n",
        "  <thead>\n",
        "    <tr style=\"text-align: right;\">\n",
        "      <th></th>\n",
        "      <th>agent</th>\n",
        "      <th>agent_parameter</th>\n",
        "      <th>avg_iteration_time</th>\n",
        "      <th>collisions</th>\n",
        "      <th>completion_time</th>\n",
        "      <th>date</th>\n",
        "      <th>id</th>\n",
        "      <th>max_iteration_time</th>\n",
        "      <th>min_iteration_time</th>\n",
        "      <th>revision</th>\n",
        "      <th>scenario</th>\n",
        "      <th>scenario_parameter</th>\n",
        "      <th>seed</th>\n",
        "      <th>timestep</th>\n",
        "      <th>view_range</th>\n",
        "    </tr>\n",
        "  </thead>\n",
        "  <tbody>\n",
        "    <tr>\n",
        "      <th>0</th>\n",
        "      <td> Arty</td>\n",
        "      <td> 0</td>\n",
        "      <td> 0.043378</td>\n",
        "      <td> 0</td>\n",
        "      <td> 54.1</td>\n",
        "      <td>2014-01-06 11:55:11.496217</td>\n",
        "      <td> 1</td>\n",
        "      <td> 0.174553</td>\n",
        "      <td> 0.000559</td>\n",
        "      <td> 2f030c9a7312abfbfb7c120233ca6fbe7ff95cd8</td>\n",
        "      <td> MarketSquare</td>\n",
        "      <td> None</td>\n",
        "      <td> 1</td>\n",
        "      <td> 0.1</td>\n",
        "      <td> 150</td>\n",
        "    </tr>\n",
        "    <tr>\n",
        "      <th>1</th>\n",
        "      <td> Arty</td>\n",
        "      <td> 0</td>\n",
        "      <td> 0.037054</td>\n",
        "      <td> 0</td>\n",
        "      <td> 59.2</td>\n",
        "      <td>2014-01-06 11:55:42.529564</td>\n",
        "      <td> 2</td>\n",
        "      <td> 0.199781</td>\n",
        "      <td> 0.000559</td>\n",
        "      <td> 2f030c9a7312abfbfb7c120233ca6fbe7ff95cd8</td>\n",
        "      <td> MarketSquare</td>\n",
        "      <td> None</td>\n",
        "      <td> 2</td>\n",
        "      <td> 0.1</td>\n",
        "      <td> 150</td>\n",
        "    </tr>\n",
        "    <tr>\n",
        "      <th>2</th>\n",
        "      <td> Arty</td>\n",
        "      <td> 0</td>\n",
        "      <td> 0.047231</td>\n",
        "      <td> 0</td>\n",
        "      <td> 56.3</td>\n",
        "      <td>2014-01-06 11:56:17.146897</td>\n",
        "      <td> 3</td>\n",
        "      <td> 0.154521</td>\n",
        "      <td> 0.000560</td>\n",
        "      <td> 2f030c9a7312abfbfb7c120233ca6fbe7ff95cd8</td>\n",
        "      <td> MarketSquare</td>\n",
        "      <td> None</td>\n",
        "      <td> 3</td>\n",
        "      <td> 0.1</td>\n",
        "      <td> 150</td>\n",
        "    </tr>\n",
        "    <tr>\n",
        "      <th>3</th>\n",
        "      <td> Arty</td>\n",
        "      <td> 0</td>\n",
        "      <td> 0.046979</td>\n",
        "      <td> 0</td>\n",
        "      <td> 53.2</td>\n",
        "      <td>2014-01-06 11:56:50.331461</td>\n",
        "      <td> 4</td>\n",
        "      <td> 0.239787</td>\n",
        "      <td> 0.000558</td>\n",
        "      <td> 2f030c9a7312abfbfb7c120233ca6fbe7ff95cd8</td>\n",
        "      <td> MarketSquare</td>\n",
        "      <td> None</td>\n",
        "      <td> 4</td>\n",
        "      <td> 0.1</td>\n",
        "      <td> 150</td>\n",
        "    </tr>\n",
        "    <tr>\n",
        "      <th>4</th>\n",
        "      <td> Arty</td>\n",
        "      <td> 0</td>\n",
        "      <td> 0.050285</td>\n",
        "      <td> 0</td>\n",
        "      <td> 56.3</td>\n",
        "      <td>2014-01-06 11:57:27.096010</td>\n",
        "      <td> 5</td>\n",
        "      <td> 0.202851</td>\n",
        "      <td> 0.000562</td>\n",
        "      <td> 2f030c9a7312abfbfb7c120233ca6fbe7ff95cd8</td>\n",
        "      <td> MarketSquare</td>\n",
        "      <td> None</td>\n",
        "      <td> 5</td>\n",
        "      <td> 0.1</td>\n",
        "      <td> 150</td>\n",
        "    </tr>\n",
        "  </tbody>\n",
        "</table>\n",
        "</div>"
       ],
       "metadata": {},
       "output_type": "pyout",
       "prompt_number": 63,
       "text": [
        "  agent  agent_parameter  avg_iteration_time  collisions  completion_time  \\\n",
        "0  Arty                0            0.043378           0             54.1   \n",
        "1  Arty                0            0.037054           0             59.2   \n",
        "2  Arty                0            0.047231           0             56.3   \n",
        "3  Arty                0            0.046979           0             53.2   \n",
        "4  Arty                0            0.050285           0             56.3   \n",
        "\n",
        "                        date  id  max_iteration_time  min_iteration_time  \\\n",
        "0 2014-01-06 11:55:11.496217   1            0.174553            0.000559   \n",
        "1 2014-01-06 11:55:42.529564   2            0.199781            0.000559   \n",
        "2 2014-01-06 11:56:17.146897   3            0.154521            0.000560   \n",
        "3 2014-01-06 11:56:50.331461   4            0.239787            0.000558   \n",
        "4 2014-01-06 11:57:27.096010   5            0.202851            0.000562   \n",
        "\n",
        "                                   revision      scenario scenario_parameter  \\\n",
        "0  2f030c9a7312abfbfb7c120233ca6fbe7ff95cd8  MarketSquare               None   \n",
        "1  2f030c9a7312abfbfb7c120233ca6fbe7ff95cd8  MarketSquare               None   \n",
        "2  2f030c9a7312abfbfb7c120233ca6fbe7ff95cd8  MarketSquare               None   \n",
        "3  2f030c9a7312abfbfb7c120233ca6fbe7ff95cd8  MarketSquare               None   \n",
        "4  2f030c9a7312abfbfb7c120233ca6fbe7ff95cd8  MarketSquare               None   \n",
        "\n",
        "   seed  timestep  view_range  \n",
        "0     1       0.1         150  \n",
        "1     2       0.1         150  \n",
        "2     3       0.1         150  \n",
        "3     4       0.1         150  \n",
        "4     5       0.1         150  "
       ]
      }
     ],
     "prompt_number": 63
    },
    {
     "cell_type": "code",
     "collapsed": false,
     "input": [
      "metrics = [\"completion_time\", \"avg_iteration_time\",\n",
      "           \"collisions\", \"max_iteration_time\"]"
     ],
     "language": "python",
     "metadata": {},
     "outputs": [],
     "prompt_number": 59
    },
    {
     "cell_type": "code",
     "collapsed": false,
     "input": [
      "groups = df.groupby(\"agent_parameter\")"
     ],
     "language": "python",
     "metadata": {},
     "outputs": [],
     "prompt_number": 45
    },
    {
     "cell_type": "code",
     "collapsed": false,
     "input": [
      "stats = {}\n",
      "for metric in metrics:\n",
      "    stats[\"avg_\" + metric] = groups[metric].aggregate(average)\n",
      "    stats[\"max_\" + metric] = groups[metric].aggregate(max)\n",
      "    stats[\"min_\" + metric] = groups[metric].aggregate(max)\n",
      "stats = pd.DataFrame(stats)"
     ],
     "language": "python",
     "metadata": {},
     "outputs": [],
     "prompt_number": 64
    },
    {
     "cell_type": "code",
     "collapsed": false,
     "input": [
      "stats[\"avg_completion_time\"].plot()\n",
      "stats[\"max_max_iteration_time\"].plot(secondary_y=True, style=\"g\")"
     ],
     "language": "python",
     "metadata": {},
     "outputs": [
      {
       "metadata": {},
       "output_type": "pyout",
       "prompt_number": 65,
       "text": [
        "<matplotlib.axes.AxesSubplot at 0x10f7f9750>"
       ]
      },
      {
       "metadata": {},
       "output_type": "display_data",
       "png": "[encoded data removed]",
       "text": [
        "<matplotlib.figure.Figure at 0x10f73dd90>"
       ]
      }
     ],
     "prompt_number": 65
    },
    {
     "cell_type": "code",
     "collapsed": false,
     "input": [],
     "language": "python",
     "metadata": {},
     "outputs": []
    }
   ],
   "metadata": {}
  }
 ]
}